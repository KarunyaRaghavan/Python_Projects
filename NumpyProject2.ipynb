{
 "cells": [
  {
   "cell_type": "code",
   "execution_count": 1,
   "id": "26f97134",
   "metadata": {},
   "outputs": [],
   "source": [
    "import numpy as np"
   ]
  },
  {
   "cell_type": "markdown",
   "id": "3d2d8742",
   "metadata": {},
   "source": [
    "## 1.Importing Data "
   ]
  },
  {
   "cell_type": "code",
   "execution_count": 2,
   "id": "ad7b57dc",
   "metadata": {},
   "outputs": [],
   "source": [
    "taxi=np.genfromtxt('nyc_taxis.csv', delimiter=',',skip_header= True)"
   ]
  },
  {
   "cell_type": "markdown",
   "id": "bbcc6ae0",
   "metadata": {},
   "source": [
    "### 2.Calculating Mean Speed\n",
    "Where speed = Distance travel / Time taken\n",
    "Here since Speed is not given, we calculate using trip distance and trip length columns"
   ]
  },
  {
   "cell_type": "code",
   "execution_count": 4,
   "id": "10711153",
   "metadata": {},
   "outputs": [
    {
     "data": {
      "text/plain": [
       "32.24258580925573"
      ]
     },
     "execution_count": 4,
     "metadata": {},
     "output_type": "execute_result"
    }
   ],
   "source": [
    "speed= taxi[:,7]/(taxi[:,8]/3600)\n",
    "np.mean(speed)"
   ]
  },
  {
   "cell_type": "markdown",
   "id": "3e6e0b58",
   "metadata": {},
   "source": [
    "### 3.To find the number of rides in the month of February"
   ]
  },
  {
   "cell_type": "code",
   "execution_count": 11,
   "id": "4e720581",
   "metadata": {},
   "outputs": [
    {
     "data": {
      "text/plain": [
       "13333"
      ]
     },
     "execution_count": 11,
     "metadata": {},
     "output_type": "execute_result"
    }
   ],
   "source": [
    "feb_month_rides= taxi[taxi[:,1]==2]\n",
    "feb_month_rides.shape[0]"
   ]
  },
  {
   "cell_type": "markdown",
   "id": "e252af5c",
   "metadata": {},
   "source": [
    "### 4.Trips where the tips has been greater than 50$"
   ]
  },
  {
   "cell_type": "code",
   "execution_count": 14,
   "id": "334532a2",
   "metadata": {},
   "outputs": [
    {
     "data": {
      "text/plain": [
       "16"
      ]
     },
     "execution_count": 14,
     "metadata": {},
     "output_type": "execute_result"
    }
   ],
   "source": [
    "tip_grt_50=taxi[taxi[:,12] > 50]\n",
    "tip_grt_50.shape[0]"
   ]
  },
  {
   "cell_type": "markdown",
   "id": "cb60a0ef",
   "metadata": {},
   "source": [
    "### 5.Trips where Drop locations is JFK Airport"
   ]
  },
  {
   "cell_type": "code",
   "execution_count": 15,
   "id": "2832afae",
   "metadata": {},
   "outputs": [
    {
     "data": {
      "text/plain": [
       "11832"
      ]
     },
     "execution_count": 15,
     "metadata": {},
     "output_type": "execute_result"
    }
   ],
   "source": [
    "drop_jfk= taxi[taxi[:,6]==2]\n",
    "drop_jfk.shape[0]"
   ]
  },
  {
   "cell_type": "code",
   "execution_count": null,
   "id": "cf22bf96",
   "metadata": {},
   "outputs": [],
   "source": []
  }
 ],
 "metadata": {
  "kernelspec": {
   "display_name": "Python 3 (ipykernel)",
   "language": "python",
   "name": "python3"
  },
  "language_info": {
   "codemirror_mode": {
    "name": "ipython",
    "version": 3
   },
   "file_extension": ".py",
   "mimetype": "text/x-python",
   "name": "python",
   "nbconvert_exporter": "python",
   "pygments_lexer": "ipython3",
   "version": "3.10.9"
  }
 },
 "nbformat": 4,
 "nbformat_minor": 5
}
